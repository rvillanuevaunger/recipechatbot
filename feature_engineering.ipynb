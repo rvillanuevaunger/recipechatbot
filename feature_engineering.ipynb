{
 "cells": [
  {
   "cell_type": "markdown",
   "metadata": {},
   "source": [
    "## 1. Setup"
   ]
  },
  {
   "cell_type": "code",
   "execution_count": 363,
   "metadata": {},
   "outputs": [],
   "source": [
    "#pre-processing\n",
    "import os\n",
    "import nltk\n",
    "from nltk.stem import WordNetLemmatizer, PorterStemmer\n",
    "import re\n",
    "import pandas as pd\n",
    "from sklearn import feature_extraction, model_selection, pipeline, manifold, preprocessing\n",
    "from nltk.corpus import stopwords\n",
    "from nltk.tokenize import sent_tokenize, word_tokenize\n",
    "\n",
    "#feature engg\n",
    "from sklearn.feature_extraction.text import CountVectorizer, TfidfVectorizer\n",
    "\n",
    "#classification\n",
    "from sklearn.naive_bayes import MultinomialNB\n",
    "from sklearn.linear_model import LogisticRegression\n",
    "from sklearn.svm import LinearSVC\n",
    "from sklearn import feature_extraction, model_selection, pipeline"
   ]
  },
  {
   "cell_type": "markdown",
   "metadata": {},
   "source": [
    "#### Import Cuisine Data"
   ]
  },
  {
   "cell_type": "code",
   "execution_count": 65,
   "metadata": {},
   "outputs": [
    {
     "data": {
      "text/html": [
       "<div>\n",
       "<style scoped>\n",
       "    .dataframe tbody tr th:only-of-type {\n",
       "        vertical-align: middle;\n",
       "    }\n",
       "\n",
       "    .dataframe tbody tr th {\n",
       "        vertical-align: top;\n",
       "    }\n",
       "\n",
       "    .dataframe thead th {\n",
       "        text-align: right;\n",
       "    }\n",
       "</style>\n",
       "<table border=\"1\" class=\"dataframe\">\n",
       "  <thead>\n",
       "    <tr style=\"text-align: right;\">\n",
       "      <th></th>\n",
       "      <th>id</th>\n",
       "      <th>cuisine</th>\n",
       "      <th>ingredients</th>\n",
       "    </tr>\n",
       "  </thead>\n",
       "  <tbody>\n",
       "    <tr>\n",
       "      <th>0</th>\n",
       "      <td>10259</td>\n",
       "      <td>greek</td>\n",
       "      <td>[romaine lettuce, black olives, grape tomatoes...</td>\n",
       "    </tr>\n",
       "    <tr>\n",
       "      <th>1</th>\n",
       "      <td>25693</td>\n",
       "      <td>southern_us</td>\n",
       "      <td>[plain flour, ground pepper, salt, tomatoes, g...</td>\n",
       "    </tr>\n",
       "    <tr>\n",
       "      <th>2</th>\n",
       "      <td>20130</td>\n",
       "      <td>filipino</td>\n",
       "      <td>[eggs, pepper, salt, mayonaise, cooking oil, g...</td>\n",
       "    </tr>\n",
       "    <tr>\n",
       "      <th>3</th>\n",
       "      <td>22213</td>\n",
       "      <td>indian</td>\n",
       "      <td>[water, vegetable oil, wheat, salt]</td>\n",
       "    </tr>\n",
       "    <tr>\n",
       "      <th>4</th>\n",
       "      <td>13162</td>\n",
       "      <td>indian</td>\n",
       "      <td>[black pepper, shallots, cornflour, cayenne pe...</td>\n",
       "    </tr>\n",
       "    <tr>\n",
       "      <th>...</th>\n",
       "      <td>...</td>\n",
       "      <td>...</td>\n",
       "      <td>...</td>\n",
       "    </tr>\n",
       "    <tr>\n",
       "      <th>39769</th>\n",
       "      <td>29109</td>\n",
       "      <td>irish</td>\n",
       "      <td>[light brown sugar, granulated sugar, butter, ...</td>\n",
       "    </tr>\n",
       "    <tr>\n",
       "      <th>39770</th>\n",
       "      <td>11462</td>\n",
       "      <td>italian</td>\n",
       "      <td>[KRAFT Zesty Italian Dressing, purple onion, b...</td>\n",
       "    </tr>\n",
       "    <tr>\n",
       "      <th>39771</th>\n",
       "      <td>2238</td>\n",
       "      <td>irish</td>\n",
       "      <td>[eggs, citrus fruit, raisins, sourdough starte...</td>\n",
       "    </tr>\n",
       "    <tr>\n",
       "      <th>39772</th>\n",
       "      <td>41882</td>\n",
       "      <td>chinese</td>\n",
       "      <td>[boneless chicken skinless thigh, minced garli...</td>\n",
       "    </tr>\n",
       "    <tr>\n",
       "      <th>39773</th>\n",
       "      <td>2362</td>\n",
       "      <td>mexican</td>\n",
       "      <td>[green chile, jalapeno chilies, onions, ground...</td>\n",
       "    </tr>\n",
       "  </tbody>\n",
       "</table>\n",
       "<p>39774 rows × 3 columns</p>\n",
       "</div>"
      ],
      "text/plain": [
       "          id      cuisine                                        ingredients\n",
       "0      10259        greek  [romaine lettuce, black olives, grape tomatoes...\n",
       "1      25693  southern_us  [plain flour, ground pepper, salt, tomatoes, g...\n",
       "2      20130     filipino  [eggs, pepper, salt, mayonaise, cooking oil, g...\n",
       "3      22213       indian                [water, vegetable oil, wheat, salt]\n",
       "4      13162       indian  [black pepper, shallots, cornflour, cayenne pe...\n",
       "...      ...          ...                                                ...\n",
       "39769  29109        irish  [light brown sugar, granulated sugar, butter, ...\n",
       "39770  11462      italian  [KRAFT Zesty Italian Dressing, purple onion, b...\n",
       "39771   2238        irish  [eggs, citrus fruit, raisins, sourdough starte...\n",
       "39772  41882      chinese  [boneless chicken skinless thigh, minced garli...\n",
       "39773   2362      mexican  [green chile, jalapeno chilies, onions, ground...\n",
       "\n",
       "[39774 rows x 3 columns]"
      ]
     },
     "metadata": {},
     "output_type": "display_data"
    }
   ],
   "source": [
    "cuisine = pd.read_json('./data/train.json')\n",
    "display(cuisine)"
   ]
  },
  {
   "cell_type": "code",
   "execution_count": 13,
   "metadata": {},
   "outputs": [
    {
     "name": "stdout",
     "output_type": "stream",
     "text": [
      "<class 'pandas.core.frame.DataFrame'>\n",
      "RangeIndex: 39774 entries, 0 to 39773\n",
      "Data columns (total 3 columns):\n",
      " #   Column       Non-Null Count  Dtype \n",
      "---  ------       --------------  ----- \n",
      " 0   id           39774 non-null  int64 \n",
      " 1   cuisine      39774 non-null  object\n",
      " 2   ingredients  39774 non-null  object\n",
      "dtypes: int64(1), object(2)\n",
      "memory usage: 932.3+ KB\n"
     ]
    }
   ],
   "source": [
    "cuisine.info()"
   ]
  },
  {
   "cell_type": "markdown",
   "metadata": {},
   "source": [
    "#### Import Recipe Data"
   ]
  },
  {
   "cell_type": "code",
   "execution_count": 62,
   "metadata": {},
   "outputs": [],
   "source": [
    "all_recipes = pd.read_json('./data/recipes_raw_nosource_allrecipes.json', orient='index')\n",
    "epicurious = pd.read_json('./data/recipes_raw_nosource_epicurious.json', orient='index')\n",
    "food_network = pd.read_json('./data/recipes_raw_nosource_foodnetwork.json', orient='index')\n",
    "recipes = pd.concat([all_recipes, epicurious, food_network], axis=0)"
   ]
  },
  {
   "cell_type": "code",
   "execution_count": 63,
   "metadata": {},
   "outputs": [
    {
     "data": {
      "text/html": [
       "<div>\n",
       "<style scoped>\n",
       "    .dataframe tbody tr th:only-of-type {\n",
       "        vertical-align: middle;\n",
       "    }\n",
       "\n",
       "    .dataframe tbody tr th {\n",
       "        vertical-align: top;\n",
       "    }\n",
       "\n",
       "    .dataframe thead th {\n",
       "        text-align: right;\n",
       "    }\n",
       "</style>\n",
       "<table border=\"1\" class=\"dataframe\">\n",
       "  <thead>\n",
       "    <tr style=\"text-align: right;\">\n",
       "      <th></th>\n",
       "      <th>title</th>\n",
       "      <th>ingredients</th>\n",
       "      <th>instructions</th>\n",
       "    </tr>\n",
       "  </thead>\n",
       "  <tbody>\n",
       "    <tr>\n",
       "      <th>0</th>\n",
       "      <td>Slow Cooker Chicken and Dumplings</td>\n",
       "      <td>[4 skinless, boneless chicken breast halves AD...</td>\n",
       "      <td>Place the chicken, butter, soup, and onion in ...</td>\n",
       "    </tr>\n",
       "    <tr>\n",
       "      <th>1</th>\n",
       "      <td>Awesome Slow Cooker Pot Roast</td>\n",
       "      <td>[2 (10.75 ounce) cans condensed cream of mushr...</td>\n",
       "      <td>In a slow cooker, mix cream of mushroom soup, ...</td>\n",
       "    </tr>\n",
       "    <tr>\n",
       "      <th>2</th>\n",
       "      <td>Brown Sugar Meatloaf</td>\n",
       "      <td>[1/2 cup packed brown sugar ADVERTISEMENT, 1/2...</td>\n",
       "      <td>Preheat oven to 350 degrees F (175 degrees C)....</td>\n",
       "    </tr>\n",
       "    <tr>\n",
       "      <th>3</th>\n",
       "      <td>Best Chocolate Chip Cookies</td>\n",
       "      <td>[1 cup butter, softened ADVERTISEMENT, 1 cup w...</td>\n",
       "      <td>Preheat oven to 350 degrees F (175 degrees C)....</td>\n",
       "    </tr>\n",
       "    <tr>\n",
       "      <th>4</th>\n",
       "      <td>Homemade Mac and Cheese Casserole</td>\n",
       "      <td>[8 ounces whole wheat rotini pasta ADVERTISEME...</td>\n",
       "      <td>Preheat oven to 350 degrees F. Line a 2-quart ...</td>\n",
       "    </tr>\n",
       "    <tr>\n",
       "      <th>...</th>\n",
       "      <td>...</td>\n",
       "      <td>...</td>\n",
       "      <td>...</td>\n",
       "    </tr>\n",
       "    <tr>\n",
       "      <th>124642</th>\n",
       "      <td>Summer Corn Salad</td>\n",
       "      <td>[4 ears fresh corn, 2 heads Belgian endive, 2 ...</td>\n",
       "      <td>Watch how to make this recipe.\\nPreheat a gril...</td>\n",
       "    </tr>\n",
       "    <tr>\n",
       "      <th>124643</th>\n",
       "      <td>Zucchini Stuffed Tomatoes</td>\n",
       "      <td>[4 large plum tomatoes, Salt and sugar, 1 1/2 ...</td>\n",
       "      <td>Preheat the broiler. Cut the tomatoes in 1/2 c...</td>\n",
       "    </tr>\n",
       "    <tr>\n",
       "      <th>124644</th>\n",
       "      <td>Pepper Pasta Quick Cook</td>\n",
       "      <td>[3 tablespoons olive oil, 2 tablespoons unsalt...</td>\n",
       "      <td>Heat the oil and butter in a large skillet ove...</td>\n",
       "    </tr>\n",
       "    <tr>\n",
       "      <th>124645</th>\n",
       "      <td>Chocolate Cake with Armagnac Ice Cream</td>\n",
       "      <td>[8 ounces butter, 8 ounces bittersweet chocola...</td>\n",
       "      <td>Preheat oven to 350 degrees. On the top half o...</td>\n",
       "    </tr>\n",
       "    <tr>\n",
       "      <th>124646</th>\n",
       "      <td>Crabby Bisque</td>\n",
       "      <td>[3 (10.5-ounce) cans restaurant-style condense...</td>\n",
       "      <td>Watch how to make this recipe.\\nIn a medium sa...</td>\n",
       "    </tr>\n",
       "  </tbody>\n",
       "</table>\n",
       "<p>124647 rows × 3 columns</p>\n",
       "</div>"
      ],
      "text/plain": [
       "                                         title  \\\n",
       "0            Slow Cooker Chicken and Dumplings   \n",
       "1                Awesome Slow Cooker Pot Roast   \n",
       "2                         Brown Sugar Meatloaf   \n",
       "3                  Best Chocolate Chip Cookies   \n",
       "4            Homemade Mac and Cheese Casserole   \n",
       "...                                        ...   \n",
       "124642                       Summer Corn Salad   \n",
       "124643               Zucchini Stuffed Tomatoes   \n",
       "124644                 Pepper Pasta Quick Cook   \n",
       "124645  Chocolate Cake with Armagnac Ice Cream   \n",
       "124646                           Crabby Bisque   \n",
       "\n",
       "                                              ingredients  \\\n",
       "0       [4 skinless, boneless chicken breast halves AD...   \n",
       "1       [2 (10.75 ounce) cans condensed cream of mushr...   \n",
       "2       [1/2 cup packed brown sugar ADVERTISEMENT, 1/2...   \n",
       "3       [1 cup butter, softened ADVERTISEMENT, 1 cup w...   \n",
       "4       [8 ounces whole wheat rotini pasta ADVERTISEME...   \n",
       "...                                                   ...   \n",
       "124642  [4 ears fresh corn, 2 heads Belgian endive, 2 ...   \n",
       "124643  [4 large plum tomatoes, Salt and sugar, 1 1/2 ...   \n",
       "124644  [3 tablespoons olive oil, 2 tablespoons unsalt...   \n",
       "124645  [8 ounces butter, 8 ounces bittersweet chocola...   \n",
       "124646  [3 (10.5-ounce) cans restaurant-style condense...   \n",
       "\n",
       "                                             instructions  \n",
       "0       Place the chicken, butter, soup, and onion in ...  \n",
       "1       In a slow cooker, mix cream of mushroom soup, ...  \n",
       "2       Preheat oven to 350 degrees F (175 degrees C)....  \n",
       "3       Preheat oven to 350 degrees F (175 degrees C)....  \n",
       "4       Preheat oven to 350 degrees F. Line a 2-quart ...  \n",
       "...                                                   ...  \n",
       "124642  Watch how to make this recipe.\\nPreheat a gril...  \n",
       "124643  Preheat the broiler. Cut the tomatoes in 1/2 c...  \n",
       "124644  Heat the oil and butter in a large skillet ove...  \n",
       "124645  Preheat oven to 350 degrees. On the top half o...  \n",
       "124646  Watch how to make this recipe.\\nIn a medium sa...  \n",
       "\n",
       "[124647 rows x 3 columns]"
      ]
     },
     "metadata": {},
     "output_type": "display_data"
    }
   ],
   "source": [
    "recipes = recipes.reset_index()\n",
    "recipes = recipes.drop(columns=['index', 'picture_link'])\n",
    "display(recipes)"
   ]
  },
  {
   "cell_type": "markdown",
   "metadata": {},
   "source": [
    "## 2. Pre-Processing"
   ]
  },
  {
   "cell_type": "markdown",
   "metadata": {},
   "source": [
    "### A. Cleaning and Tokenization"
   ]
  },
  {
   "cell_type": "markdown",
   "metadata": {},
   "source": [
    "#### Add stopwords"
   ]
  },
  {
   "cell_type": "code",
   "execution_count": 301,
   "metadata": {},
   "outputs": [],
   "source": [
    "from nltk.corpus import stopwords\n",
    "stopword_list = stopwords.words(\"english\")\n",
    "addl_stop_words = ['advertisement', 'advertisments', 'cup', 'cups', 'tablespoon', 'tablespoons', 'teaspoon', 'teaspoons', 'ounce', 'ounces', 'salt', 'pepper', 'pound', 'pounds']\n",
    "stopword_list.extend(addl_stop_words)"
   ]
  },
  {
   "cell_type": "markdown",
   "metadata": {},
   "source": [
    "#### String cleaning function"
   ]
  },
  {
   "cell_type": "code",
   "execution_count": 398,
   "metadata": {},
   "outputs": [],
   "source": [
    "def clean_string(list, lemmatize = True, stemming = False):\n",
    "    str = ' '.join(list) #converting the list to string\n",
    "    clean_text = ''\n",
    "    \n",
    "    lower = str.lower().split() #lowercase and tokenize\n",
    "    \n",
    "    clean_words = []\n",
    "    for word in lower:\n",
    "        if len(word) > 2:\n",
    "            digit = re.sub(r'\\d+','', word) #removing digits\n",
    "            text = re.sub(r'[^\\w\\s]', '', digit) #removing punc and characters\n",
    "            \n",
    "            \n",
    "            if lemmatize:\n",
    "                lm = WordNetLemmatizer()  #lemmatize\n",
    "                lemm = lm.lemmatize(text)\n",
    "                clean_words.append(lemm)\n",
    "                \n",
    "                if stemming:\n",
    "                    stemmer = PorterStemmer #stemming\n",
    "                    stemm = stemmer.stem(text)\n",
    "                    clean_words.append(stemm)\n",
    "         \n",
    "    rem_stop = [i for i in clean_words if i not in stopword_list]  #remove stopwords\n",
    "    \n",
    "    clean_text = ' '.join(rem_stop) #join as a string\n",
    "    space = re.sub(' +', ' ', clean_text) #remove multi-spaces\n",
    "    \n",
    "    return space    "
   ]
  },
  {
   "cell_type": "markdown",
   "metadata": {},
   "source": [
    "#### Clean Ingredients"
   ]
  },
  {
   "cell_type": "code",
   "execution_count": 402,
   "metadata": {},
   "outputs": [],
   "source": [
    "recipes['clean_ingredients'] = recipes['ingredients'].apply(lambda x: clean_string(x))"
   ]
  },
  {
   "cell_type": "code",
   "execution_count": 403,
   "metadata": {},
   "outputs": [
    {
     "data": {
      "text/html": [
       "<div>\n",
       "<style scoped>\n",
       "    .dataframe tbody tr th:only-of-type {\n",
       "        vertical-align: middle;\n",
       "    }\n",
       "\n",
       "    .dataframe tbody tr th {\n",
       "        vertical-align: top;\n",
       "    }\n",
       "\n",
       "    .dataframe thead th {\n",
       "        text-align: right;\n",
       "    }\n",
       "</style>\n",
       "<table border=\"1\" class=\"dataframe\">\n",
       "  <thead>\n",
       "    <tr style=\"text-align: right;\">\n",
       "      <th></th>\n",
       "      <th>title</th>\n",
       "      <th>ingredients</th>\n",
       "      <th>instructions</th>\n",
       "      <th>clean_ingredients</th>\n",
       "    </tr>\n",
       "  </thead>\n",
       "  <tbody>\n",
       "    <tr>\n",
       "      <th>0</th>\n",
       "      <td>Slow Cooker Chicken and Dumplings</td>\n",
       "      <td>[4 skinless, boneless chicken breast halves AD...</td>\n",
       "      <td>Place the chicken, butter, soup, and onion in ...</td>\n",
       "      <td>skinless boneless chicken breast half butter c...</td>\n",
       "    </tr>\n",
       "    <tr>\n",
       "      <th>1</th>\n",
       "      <td>Awesome Slow Cooker Pot Roast</td>\n",
       "      <td>[2 (10.75 ounce) cans condensed cream of mushr...</td>\n",
       "      <td>In a slow cooker, mix cream of mushroom soup, ...</td>\n",
       "      <td>condensed cream mushroom soup package dry oni...</td>\n",
       "    </tr>\n",
       "    <tr>\n",
       "      <th>2</th>\n",
       "      <td>Brown Sugar Meatloaf</td>\n",
       "      <td>[1/2 cup packed brown sugar ADVERTISEMENT, 1/2...</td>\n",
       "      <td>Preheat oven to 350 degrees F (175 degrees C)....</td>\n",
       "      <td>packed brown sugar ketchup lean ground beef m...</td>\n",
       "    </tr>\n",
       "    <tr>\n",
       "      <th>3</th>\n",
       "      <td>Best Chocolate Chip Cookies</td>\n",
       "      <td>[1 cup butter, softened ADVERTISEMENT, 1 cup w...</td>\n",
       "      <td>Preheat oven to 350 degrees F (175 degrees C)....</td>\n",
       "      <td>butter softened white sugar packed brown sugar...</td>\n",
       "    </tr>\n",
       "    <tr>\n",
       "      <th>4</th>\n",
       "      <td>Homemade Mac and Cheese Casserole</td>\n",
       "      <td>[8 ounces whole wheat rotini pasta ADVERTISEME...</td>\n",
       "      <td>Preheat oven to 350 degrees F. Line a 2-quart ...</td>\n",
       "      <td>whole wheat rotini pasta fresh broccoli floret...</td>\n",
       "    </tr>\n",
       "    <tr>\n",
       "      <th>...</th>\n",
       "      <td>...</td>\n",
       "      <td>...</td>\n",
       "      <td>...</td>\n",
       "      <td>...</td>\n",
       "    </tr>\n",
       "    <tr>\n",
       "      <th>124642</th>\n",
       "      <td>Summer Corn Salad</td>\n",
       "      <td>[4 ears fresh corn, 2 heads Belgian endive, 2 ...</td>\n",
       "      <td>Watch how to make this recipe.\\nPreheat a gril...</td>\n",
       "      <td>ear fresh corn head belgian endive olive oil f...</td>\n",
       "    </tr>\n",
       "    <tr>\n",
       "      <th>124643</th>\n",
       "      <td>Zucchini Stuffed Tomatoes</td>\n",
       "      <td>[4 large plum tomatoes, Salt and sugar, 1 1/2 ...</td>\n",
       "      <td>Preheat the broiler. Cut the tomatoes in 1/2 c...</td>\n",
       "      <td>large plum tomato sugar zucchini shallot slice...</td>\n",
       "    </tr>\n",
       "    <tr>\n",
       "      <th>124644</th>\n",
       "      <td>Pepper Pasta Quick Cook</td>\n",
       "      <td>[3 tablespoons olive oil, 2 tablespoons unsalt...</td>\n",
       "      <td>Heat the oil and butter in a large skillet ove...</td>\n",
       "      <td>olive oil unsalted butter medium clove garlic ...</td>\n",
       "    </tr>\n",
       "    <tr>\n",
       "      <th>124645</th>\n",
       "      <td>Chocolate Cake with Armagnac Ice Cream</td>\n",
       "      <td>[8 ounces butter, 8 ounces bittersweet chocola...</td>\n",
       "      <td>Preheat oven to 350 degrees. On the top half o...</td>\n",
       "      <td>butter bittersweet chocolate whole egg egg yol...</td>\n",
       "    </tr>\n",
       "    <tr>\n",
       "      <th>124646</th>\n",
       "      <td>Crabby Bisque</td>\n",
       "      <td>[3 (10.5-ounce) cans restaurant-style condense...</td>\n",
       "      <td>Watch how to make this recipe.\\nIn a medium sa...</td>\n",
       "      <td>restaurantstyle condensed crab bisque recommen...</td>\n",
       "    </tr>\n",
       "  </tbody>\n",
       "</table>\n",
       "<p>124647 rows × 4 columns</p>\n",
       "</div>"
      ],
      "text/plain": [
       "                                         title  \\\n",
       "0            Slow Cooker Chicken and Dumplings   \n",
       "1                Awesome Slow Cooker Pot Roast   \n",
       "2                         Brown Sugar Meatloaf   \n",
       "3                  Best Chocolate Chip Cookies   \n",
       "4            Homemade Mac and Cheese Casserole   \n",
       "...                                        ...   \n",
       "124642                       Summer Corn Salad   \n",
       "124643               Zucchini Stuffed Tomatoes   \n",
       "124644                 Pepper Pasta Quick Cook   \n",
       "124645  Chocolate Cake with Armagnac Ice Cream   \n",
       "124646                           Crabby Bisque   \n",
       "\n",
       "                                              ingredients  \\\n",
       "0       [4 skinless, boneless chicken breast halves AD...   \n",
       "1       [2 (10.75 ounce) cans condensed cream of mushr...   \n",
       "2       [1/2 cup packed brown sugar ADVERTISEMENT, 1/2...   \n",
       "3       [1 cup butter, softened ADVERTISEMENT, 1 cup w...   \n",
       "4       [8 ounces whole wheat rotini pasta ADVERTISEME...   \n",
       "...                                                   ...   \n",
       "124642  [4 ears fresh corn, 2 heads Belgian endive, 2 ...   \n",
       "124643  [4 large plum tomatoes, Salt and sugar, 1 1/2 ...   \n",
       "124644  [3 tablespoons olive oil, 2 tablespoons unsalt...   \n",
       "124645  [8 ounces butter, 8 ounces bittersweet chocola...   \n",
       "124646  [3 (10.5-ounce) cans restaurant-style condense...   \n",
       "\n",
       "                                             instructions  \\\n",
       "0       Place the chicken, butter, soup, and onion in ...   \n",
       "1       In a slow cooker, mix cream of mushroom soup, ...   \n",
       "2       Preheat oven to 350 degrees F (175 degrees C)....   \n",
       "3       Preheat oven to 350 degrees F (175 degrees C)....   \n",
       "4       Preheat oven to 350 degrees F. Line a 2-quart ...   \n",
       "...                                                   ...   \n",
       "124642  Watch how to make this recipe.\\nPreheat a gril...   \n",
       "124643  Preheat the broiler. Cut the tomatoes in 1/2 c...   \n",
       "124644  Heat the oil and butter in a large skillet ove...   \n",
       "124645  Preheat oven to 350 degrees. On the top half o...   \n",
       "124646  Watch how to make this recipe.\\nIn a medium sa...   \n",
       "\n",
       "                                        clean_ingredients  \n",
       "0       skinless boneless chicken breast half butter c...  \n",
       "1        condensed cream mushroom soup package dry oni...  \n",
       "2        packed brown sugar ketchup lean ground beef m...  \n",
       "3       butter softened white sugar packed brown sugar...  \n",
       "4       whole wheat rotini pasta fresh broccoli floret...  \n",
       "...                                                   ...  \n",
       "124642  ear fresh corn head belgian endive olive oil f...  \n",
       "124643  large plum tomato sugar zucchini shallot slice...  \n",
       "124644  olive oil unsalted butter medium clove garlic ...  \n",
       "124645  butter bittersweet chocolate whole egg egg yol...  \n",
       "124646  restaurantstyle condensed crab bisque recommen...  \n",
       "\n",
       "[124647 rows x 4 columns]"
      ]
     },
     "metadata": {},
     "output_type": "display_data"
    }
   ],
   "source": [
    "display(recipes)"
   ]
  },
  {
   "cell_type": "markdown",
   "metadata": {},
   "source": [
    "#### Before and After Pre-processing"
   ]
  },
  {
   "cell_type": "code",
   "execution_count": 411,
   "metadata": {},
   "outputs": [
    {
     "name": "stdout",
     "output_type": "stream",
     "text": [
      "['1 (32 ounce) package frozen hash brown potatoes ADVERTISEMENT', '8 ounces cooked, diced ham ADVERTISEMENT', '2 (10.75 ounce) cans condensed cream of potato soup ADVERTISEMENT', '1 (16 ounce) container sour cream ADVERTISEMENT', '2 cups shredded sharp Cheddar cheese ADVERTISEMENT', '1 1/2 cups grated Parmesan cheese ADVERTISEMENT', 'ADVERTISEMENT']\n",
      "\n",
      "\n",
      " package frozen hash brown potato cooked diced ham condensed cream potato soup container sour cream shredded sharp cheddar cheese grated parmesan cheese\n"
     ]
    }
   ],
   "source": [
    "print(recipes['ingredients'][200])\n",
    "\n",
    "print('\\n')\n",
    "\n",
    "print(recipes['clean_ingredients'][200])"
   ]
  },
  {
   "cell_type": "markdown",
   "metadata": {},
   "source": [
    "### B. Removing NA"
   ]
  },
  {
   "cell_type": "code",
   "execution_count": 406,
   "metadata": {},
   "outputs": [
    {
     "name": "stdout",
     "output_type": "stream",
     "text": [
      "<class 'pandas.core.frame.DataFrame'>\n",
      "RangeIndex: 124647 entries, 0 to 124646\n",
      "Data columns (total 4 columns):\n",
      " #   Column             Non-Null Count   Dtype \n",
      "---  ------             --------------   ----- \n",
      " 0   title              124595 non-null  object\n",
      " 1   ingredients        124647 non-null  object\n",
      " 2   instructions       124473 non-null  object\n",
      " 3   clean_ingredients  124647 non-null  object\n",
      "dtypes: object(4)\n",
      "memory usage: 3.8+ MB\n"
     ]
    }
   ],
   "source": [
    "#dataframe info\n",
    "\n",
    "recipes.info()"
   ]
  },
  {
   "cell_type": "code",
   "execution_count": 408,
   "metadata": {},
   "outputs": [],
   "source": [
    "#removing NA\n",
    "\n",
    "recipes.dropna(inplace=True)"
   ]
  },
  {
   "cell_type": "code",
   "execution_count": 409,
   "metadata": {},
   "outputs": [
    {
     "name": "stdout",
     "output_type": "stream",
     "text": [
      "<class 'pandas.core.frame.DataFrame'>\n",
      "Int64Index: 124473 entries, 0 to 124646\n",
      "Data columns (total 4 columns):\n",
      " #   Column             Non-Null Count   Dtype \n",
      "---  ------             --------------   ----- \n",
      " 0   title              124473 non-null  object\n",
      " 1   ingredients        124473 non-null  object\n",
      " 2   instructions       124473 non-null  object\n",
      " 3   clean_ingredients  124473 non-null  object\n",
      "dtypes: object(4)\n",
      "memory usage: 4.7+ MB\n"
     ]
    }
   ],
   "source": [
    "#after removing NA\n",
    "\n",
    "recipes.info()"
   ]
  },
  {
   "cell_type": "markdown",
   "metadata": {},
   "source": [
    "## 2. Feature Engg and Classification of Cuisines "
   ]
  },
  {
   "cell_type": "markdown",
   "metadata": {},
   "source": [
    "#### Instantiate Vectorizer"
   ]
  },
  {
   "cell_type": "code",
   "execution_count": 395,
   "metadata": {},
   "outputs": [],
   "source": [
    "count_uni = CountVectorizer(lowercase = True, stop_words = 'english', ngram_range = (1,1))\n",
    "count_bi = CountVectorizer(lowercase = True,stop_words = 'english', ngram_range = (1,2))\n",
    "count_binary = CountVectorizer(lowercase = True,stop_words = 'english', ngram_range = (1,2), binary = True)\n",
    "tfidf_uni = TfidfVectorizer(lowercase = True,stop_words = 'english', ngram_range = (1,1))\n",
    "tfidf_bi = TfidfVectorizer(lowercase = True,stop_words = 'english', ngram_range = (1,2))"
   ]
  },
  {
   "cell_type": "code",
   "execution_count": 396,
   "metadata": {},
   "outputs": [],
   "source": [
    "vect_dict = {'count_uni': count_uni,\n",
    "            'count_bi': count_bi,\n",
    "            'count_binary': count_binary,\n",
    "            'tfidf_uni': tfidf_uni,\n",
    "            'tfidf_bi': tfidf_bi}"
   ]
  },
  {
   "cell_type": "markdown",
   "metadata": {},
   "source": [
    "#### Classification Methods"
   ]
  },
  {
   "cell_type": "code",
   "execution_count": 397,
   "metadata": {},
   "outputs": [],
   "source": [
    "# Logistic Regression, SVM, Random Forest, Naive Bayes,  Neural Networks, KNN\n",
    " \n",
    "from sklearn.naive_bayes import MultinomialNB\n",
    "from sklearn.linear_model import LogisticRegression\n",
    "from sklearn.svm import SVC\n",
    "from sklearn import feature_extraction, model_selection, pipeline\n",
    "from sklearn.ensemble import RandomForestClassifier\n",
    "from sklearn.neighbors import KNeighborsClassifier"
   ]
  },
  {
   "cell_type": "code",
   "execution_count": 413,
   "metadata": {},
   "outputs": [],
   "source": [
    "nb = MultinomialNB()\n",
    "logreg = LogisticRegression()\n",
    "svc = SVC()\n",
    "rf = RandomForestClassifier()\n",
    "#knn = KneighborsClassifier()"
   ]
  },
  {
   "cell_type": "code",
   "execution_count": 424,
   "metadata": {},
   "outputs": [],
   "source": [
    "X = cuisine['ingredients']\n",
    "y = cuisine['cuisine']"
   ]
  },
  {
   "cell_type": "code",
   "execution_count": 416,
   "metadata": {},
   "outputs": [],
   "source": [
    "#Cross Validation\n",
    "\n",
    "inner_cv = KFold(n_splits = 3, shuffle = True, random_state = 1)\n",
    "outer_cv = KFold(n_splits = 5, shuffle = True, random_state = 1)"
   ]
  },
  {
   "cell_type": "code",
   "execution_count": 417,
   "metadata": {},
   "outputs": [],
   "source": [
    "#Stating the parameters\n",
    "\n",
    "kernel = ['rbf', 'linear', 'poly', 'sigmoid']\n",
    "C = [0.001, 0.01, 0.1, 1, 10]"
   ]
  },
  {
   "cell_type": "code",
   "execution_count": 422,
   "metadata": {},
   "outputs": [],
   "source": [
    "# set up parameter grid\n",
    "params = {'classify__kernel': kernel, 'classify__C': C}\n",
    "\n",
    "for method in vect_dict:\n",
    "    pipe = Pipeline([\n",
    "        ('vectorize', vect_dict[method]),\n",
    "        ('scale', StandardScaler()),\n",
    "        ('classify', svc)\n",
    "    ])"
   ]
  }
 ],
 "metadata": {
  "interpreter": {
   "hash": "5db968608ecdb27000edf98c5f63e9ccc25d479a7a16895421f990979c50088b"
  },
  "kernelspec": {
   "display_name": "Python 3 (ipykernel)",
   "language": "python",
   "name": "python3"
  },
  "language_info": {
   "codemirror_mode": {
    "name": "ipython",
    "version": 3
   },
   "file_extension": ".py",
   "mimetype": "text/x-python",
   "name": "python",
   "nbconvert_exporter": "python",
   "pygments_lexer": "ipython3",
   "version": "3.9.7"
  }
 },
 "nbformat": 4,
 "nbformat_minor": 2
}
