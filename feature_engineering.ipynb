{
 "cells": [
  {
   "cell_type": "markdown",
   "metadata": {},
   "source": [
    "## 1. Setup"
   ]
  },
  {
   "cell_type": "code",
   "execution_count": 2,
   "metadata": {},
   "outputs": [],
   "source": [
    "#pre-processing\n",
    "import os\n",
    "import nltk\n",
    "from nltk.stem import WordNetLemmatizer, PorterStemmer\n",
    "import re\n",
    "import pandas as pd\n",
    "from sklearn import feature_extraction, model_selection, pipeline, manifold, preprocessing\n",
    "from nltk.corpus import stopwords\n",
    "from nltk.tokenize import sent_tokenize, word_tokenize\n",
    "\n",
    "#feature engg\n",
    "from sklearn.feature_extraction.text import CountVectorizer, TfidfVectorizer\n",
    "\n",
    "#classification\n",
    "from sklearn.naive_bayes import MultinomialNB\n",
    "from sklearn.linear_model import LogisticRegression\n",
    "from sklearn.svm import LinearSVC\n",
    "from sklearn import feature_extraction, model_selection, pipeline"
   ]
  },
  {
   "cell_type": "markdown",
   "metadata": {},
   "source": [
    "#### Import Cuisine Data"
   ]
  },
  {
   "cell_type": "code",
   "execution_count": 3,
   "metadata": {},
   "outputs": [
    {
     "data": {
      "text/html": [
       "<div>\n",
       "<style scoped>\n",
       "    .dataframe tbody tr th:only-of-type {\n",
       "        vertical-align: middle;\n",
       "    }\n",
       "\n",
       "    .dataframe tbody tr th {\n",
       "        vertical-align: top;\n",
       "    }\n",
       "\n",
       "    .dataframe thead th {\n",
       "        text-align: right;\n",
       "    }\n",
       "</style>\n",
       "<table border=\"1\" class=\"dataframe\">\n",
       "  <thead>\n",
       "    <tr style=\"text-align: right;\">\n",
       "      <th></th>\n",
       "      <th>id</th>\n",
       "      <th>cuisine</th>\n",
       "      <th>ingredients</th>\n",
       "    </tr>\n",
       "  </thead>\n",
       "  <tbody>\n",
       "    <tr>\n",
       "      <th>0</th>\n",
       "      <td>10259</td>\n",
       "      <td>greek</td>\n",
       "      <td>[romaine lettuce, black olives, grape tomatoes...</td>\n",
       "    </tr>\n",
       "    <tr>\n",
       "      <th>1</th>\n",
       "      <td>25693</td>\n",
       "      <td>southern_us</td>\n",
       "      <td>[plain flour, ground pepper, salt, tomatoes, g...</td>\n",
       "    </tr>\n",
       "    <tr>\n",
       "      <th>2</th>\n",
       "      <td>20130</td>\n",
       "      <td>filipino</td>\n",
       "      <td>[eggs, pepper, salt, mayonaise, cooking oil, g...</td>\n",
       "    </tr>\n",
       "    <tr>\n",
       "      <th>3</th>\n",
       "      <td>22213</td>\n",
       "      <td>indian</td>\n",
       "      <td>[water, vegetable oil, wheat, salt]</td>\n",
       "    </tr>\n",
       "    <tr>\n",
       "      <th>4</th>\n",
       "      <td>13162</td>\n",
       "      <td>indian</td>\n",
       "      <td>[black pepper, shallots, cornflour, cayenne pe...</td>\n",
       "    </tr>\n",
       "    <tr>\n",
       "      <th>...</th>\n",
       "      <td>...</td>\n",
       "      <td>...</td>\n",
       "      <td>...</td>\n",
       "    </tr>\n",
       "    <tr>\n",
       "      <th>39769</th>\n",
       "      <td>29109</td>\n",
       "      <td>irish</td>\n",
       "      <td>[light brown sugar, granulated sugar, butter, ...</td>\n",
       "    </tr>\n",
       "    <tr>\n",
       "      <th>39770</th>\n",
       "      <td>11462</td>\n",
       "      <td>italian</td>\n",
       "      <td>[KRAFT Zesty Italian Dressing, purple onion, b...</td>\n",
       "    </tr>\n",
       "    <tr>\n",
       "      <th>39771</th>\n",
       "      <td>2238</td>\n",
       "      <td>irish</td>\n",
       "      <td>[eggs, citrus fruit, raisins, sourdough starte...</td>\n",
       "    </tr>\n",
       "    <tr>\n",
       "      <th>39772</th>\n",
       "      <td>41882</td>\n",
       "      <td>chinese</td>\n",
       "      <td>[boneless chicken skinless thigh, minced garli...</td>\n",
       "    </tr>\n",
       "    <tr>\n",
       "      <th>39773</th>\n",
       "      <td>2362</td>\n",
       "      <td>mexican</td>\n",
       "      <td>[green chile, jalapeno chilies, onions, ground...</td>\n",
       "    </tr>\n",
       "  </tbody>\n",
       "</table>\n",
       "<p>39774 rows × 3 columns</p>\n",
       "</div>"
      ],
      "text/plain": [
       "          id      cuisine                                        ingredients\n",
       "0      10259        greek  [romaine lettuce, black olives, grape tomatoes...\n",
       "1      25693  southern_us  [plain flour, ground pepper, salt, tomatoes, g...\n",
       "2      20130     filipino  [eggs, pepper, salt, mayonaise, cooking oil, g...\n",
       "3      22213       indian                [water, vegetable oil, wheat, salt]\n",
       "4      13162       indian  [black pepper, shallots, cornflour, cayenne pe...\n",
       "...      ...          ...                                                ...\n",
       "39769  29109        irish  [light brown sugar, granulated sugar, butter, ...\n",
       "39770  11462      italian  [KRAFT Zesty Italian Dressing, purple onion, b...\n",
       "39771   2238        irish  [eggs, citrus fruit, raisins, sourdough starte...\n",
       "39772  41882      chinese  [boneless chicken skinless thigh, minced garli...\n",
       "39773   2362      mexican  [green chile, jalapeno chilies, onions, ground...\n",
       "\n",
       "[39774 rows x 3 columns]"
      ]
     },
     "metadata": {},
     "output_type": "display_data"
    }
   ],
   "source": [
    "cuisine = pd.read_json('./data/train.json')\n",
    "display(cuisine)"
   ]
  },
  {
   "cell_type": "code",
   "execution_count": 4,
   "metadata": {},
   "outputs": [
    {
     "name": "stdout",
     "output_type": "stream",
     "text": [
      "<class 'pandas.core.frame.DataFrame'>\n",
      "RangeIndex: 39774 entries, 0 to 39773\n",
      "Data columns (total 3 columns):\n",
      " #   Column       Non-Null Count  Dtype \n",
      "---  ------       --------------  ----- \n",
      " 0   id           39774 non-null  int64 \n",
      " 1   cuisine      39774 non-null  object\n",
      " 2   ingredients  39774 non-null  object\n",
      "dtypes: int64(1), object(2)\n",
      "memory usage: 932.3+ KB\n"
     ]
    }
   ],
   "source": [
    "cuisine.info()"
   ]
  },
  {
   "cell_type": "markdown",
   "metadata": {},
   "source": [
    "#### Import Recipe Data"
   ]
  },
  {
   "cell_type": "code",
   "execution_count": 5,
   "metadata": {},
   "outputs": [],
   "source": [
    "all_recipes = pd.read_json('./data/recipes_raw_nosource_allrecipes.json', orient='index')\n",
    "epicurious = pd.read_json('./data/recipes_raw_nosource_epicurious.json', orient='index')\n",
    "food_network = pd.read_json('./data/recipes_raw_nosource_foodnetwork.json', orient='index')\n",
    "recipes = pd.concat([all_recipes, epicurious, food_network], axis=0)"
   ]
  },
  {
   "cell_type": "code",
   "execution_count": 6,
   "metadata": {},
   "outputs": [
    {
     "data": {
      "text/html": [
       "<div>\n",
       "<style scoped>\n",
       "    .dataframe tbody tr th:only-of-type {\n",
       "        vertical-align: middle;\n",
       "    }\n",
       "\n",
       "    .dataframe tbody tr th {\n",
       "        vertical-align: top;\n",
       "    }\n",
       "\n",
       "    .dataframe thead th {\n",
       "        text-align: right;\n",
       "    }\n",
       "</style>\n",
       "<table border=\"1\" class=\"dataframe\">\n",
       "  <thead>\n",
       "    <tr style=\"text-align: right;\">\n",
       "      <th></th>\n",
       "      <th>title</th>\n",
       "      <th>ingredients</th>\n",
       "      <th>instructions</th>\n",
       "    </tr>\n",
       "  </thead>\n",
       "  <tbody>\n",
       "    <tr>\n",
       "      <th>0</th>\n",
       "      <td>Slow Cooker Chicken and Dumplings</td>\n",
       "      <td>[4 skinless, boneless chicken breast halves AD...</td>\n",
       "      <td>Place the chicken, butter, soup, and onion in ...</td>\n",
       "    </tr>\n",
       "    <tr>\n",
       "      <th>1</th>\n",
       "      <td>Awesome Slow Cooker Pot Roast</td>\n",
       "      <td>[2 (10.75 ounce) cans condensed cream of mushr...</td>\n",
       "      <td>In a slow cooker, mix cream of mushroom soup, ...</td>\n",
       "    </tr>\n",
       "    <tr>\n",
       "      <th>2</th>\n",
       "      <td>Brown Sugar Meatloaf</td>\n",
       "      <td>[1/2 cup packed brown sugar ADVERTISEMENT, 1/2...</td>\n",
       "      <td>Preheat oven to 350 degrees F (175 degrees C)....</td>\n",
       "    </tr>\n",
       "    <tr>\n",
       "      <th>3</th>\n",
       "      <td>Best Chocolate Chip Cookies</td>\n",
       "      <td>[1 cup butter, softened ADVERTISEMENT, 1 cup w...</td>\n",
       "      <td>Preheat oven to 350 degrees F (175 degrees C)....</td>\n",
       "    </tr>\n",
       "    <tr>\n",
       "      <th>4</th>\n",
       "      <td>Homemade Mac and Cheese Casserole</td>\n",
       "      <td>[8 ounces whole wheat rotini pasta ADVERTISEME...</td>\n",
       "      <td>Preheat oven to 350 degrees F. Line a 2-quart ...</td>\n",
       "    </tr>\n",
       "    <tr>\n",
       "      <th>...</th>\n",
       "      <td>...</td>\n",
       "      <td>...</td>\n",
       "      <td>...</td>\n",
       "    </tr>\n",
       "    <tr>\n",
       "      <th>124642</th>\n",
       "      <td>Summer Corn Salad</td>\n",
       "      <td>[4 ears fresh corn, 2 heads Belgian endive, 2 ...</td>\n",
       "      <td>Watch how to make this recipe.\\nPreheat a gril...</td>\n",
       "    </tr>\n",
       "    <tr>\n",
       "      <th>124643</th>\n",
       "      <td>Zucchini Stuffed Tomatoes</td>\n",
       "      <td>[4 large plum tomatoes, Salt and sugar, 1 1/2 ...</td>\n",
       "      <td>Preheat the broiler. Cut the tomatoes in 1/2 c...</td>\n",
       "    </tr>\n",
       "    <tr>\n",
       "      <th>124644</th>\n",
       "      <td>Pepper Pasta Quick Cook</td>\n",
       "      <td>[3 tablespoons olive oil, 2 tablespoons unsalt...</td>\n",
       "      <td>Heat the oil and butter in a large skillet ove...</td>\n",
       "    </tr>\n",
       "    <tr>\n",
       "      <th>124645</th>\n",
       "      <td>Chocolate Cake with Armagnac Ice Cream</td>\n",
       "      <td>[8 ounces butter, 8 ounces bittersweet chocola...</td>\n",
       "      <td>Preheat oven to 350 degrees. On the top half o...</td>\n",
       "    </tr>\n",
       "    <tr>\n",
       "      <th>124646</th>\n",
       "      <td>Crabby Bisque</td>\n",
       "      <td>[3 (10.5-ounce) cans restaurant-style condense...</td>\n",
       "      <td>Watch how to make this recipe.\\nIn a medium sa...</td>\n",
       "    </tr>\n",
       "  </tbody>\n",
       "</table>\n",
       "<p>124647 rows × 3 columns</p>\n",
       "</div>"
      ],
      "text/plain": [
       "                                         title  \\\n",
       "0            Slow Cooker Chicken and Dumplings   \n",
       "1                Awesome Slow Cooker Pot Roast   \n",
       "2                         Brown Sugar Meatloaf   \n",
       "3                  Best Chocolate Chip Cookies   \n",
       "4            Homemade Mac and Cheese Casserole   \n",
       "...                                        ...   \n",
       "124642                       Summer Corn Salad   \n",
       "124643               Zucchini Stuffed Tomatoes   \n",
       "124644                 Pepper Pasta Quick Cook   \n",
       "124645  Chocolate Cake with Armagnac Ice Cream   \n",
       "124646                           Crabby Bisque   \n",
       "\n",
       "                                              ingredients  \\\n",
       "0       [4 skinless, boneless chicken breast halves AD...   \n",
       "1       [2 (10.75 ounce) cans condensed cream of mushr...   \n",
       "2       [1/2 cup packed brown sugar ADVERTISEMENT, 1/2...   \n",
       "3       [1 cup butter, softened ADVERTISEMENT, 1 cup w...   \n",
       "4       [8 ounces whole wheat rotini pasta ADVERTISEME...   \n",
       "...                                                   ...   \n",
       "124642  [4 ears fresh corn, 2 heads Belgian endive, 2 ...   \n",
       "124643  [4 large plum tomatoes, Salt and sugar, 1 1/2 ...   \n",
       "124644  [3 tablespoons olive oil, 2 tablespoons unsalt...   \n",
       "124645  [8 ounces butter, 8 ounces bittersweet chocola...   \n",
       "124646  [3 (10.5-ounce) cans restaurant-style condense...   \n",
       "\n",
       "                                             instructions  \n",
       "0       Place the chicken, butter, soup, and onion in ...  \n",
       "1       In a slow cooker, mix cream of mushroom soup, ...  \n",
       "2       Preheat oven to 350 degrees F (175 degrees C)....  \n",
       "3       Preheat oven to 350 degrees F (175 degrees C)....  \n",
       "4       Preheat oven to 350 degrees F. Line a 2-quart ...  \n",
       "...                                                   ...  \n",
       "124642  Watch how to make this recipe.\\nPreheat a gril...  \n",
       "124643  Preheat the broiler. Cut the tomatoes in 1/2 c...  \n",
       "124644  Heat the oil and butter in a large skillet ove...  \n",
       "124645  Preheat oven to 350 degrees. On the top half o...  \n",
       "124646  Watch how to make this recipe.\\nIn a medium sa...  \n",
       "\n",
       "[124647 rows x 3 columns]"
      ]
     },
     "metadata": {},
     "output_type": "display_data"
    }
   ],
   "source": [
    "recipes = recipes.reset_index()\n",
    "recipes = recipes.drop(columns=['index', 'picture_link'])\n",
    "display(recipes)"
   ]
  },
  {
   "cell_type": "markdown",
   "metadata": {},
   "source": [
    "## 2. Pre-Processing"
   ]
  },
  {
   "cell_type": "markdown",
   "metadata": {},
   "source": [
    "### A. Cleaning and Tokenization"
   ]
  },
  {
   "cell_type": "markdown",
   "metadata": {},
   "source": [
    "#### Add stopwords"
   ]
  },
  {
   "cell_type": "code",
   "execution_count": 7,
   "metadata": {},
   "outputs": [],
   "source": [
    "from nltk.corpus import stopwords\n",
    "stopword_list = stopwords.words(\"english\")\n",
    "addl_stop_words = ['advertisement', 'advertisments', 'cup', 'cups', 'tablespoon', 'tablespoons', 'teaspoon', 'teaspoons', 'ounce', 'ounces', 'salt', 'pepper', 'pound', 'pounds']\n",
    "stopword_list.extend(addl_stop_words)"
   ]
  },
  {
   "cell_type": "markdown",
   "metadata": {},
   "source": [
    "#### String cleaning function"
   ]
  },
  {
   "cell_type": "code",
   "execution_count": 10,
   "metadata": {},
   "outputs": [],
   "source": [
    "def clean_string(list, lemmatize = True, stemming = False):\n",
    "    str = ' '.join(list) #converting the list to string\n",
    "    clean_text = ''\n",
    "    \n",
    "    lower = str.lower().split() #lowercase and tokenize\n",
    "    \n",
    "    clean_words = []\n",
    "    for word in lower:\n",
    "        if len(word) > 2:\n",
    "            digit = re.sub(r'\\d+','', word) #removing digits\n",
    "            text = re.sub(r'[^\\w\\s]', '', digit) #removing punc and characters\n",
    "            \n",
    "            \n",
    "            if lemmatize:\n",
    "                lm = WordNetLemmatizer()  #lemmatize\n",
    "                lemm = lm.lemmatize(text)\n",
    "                clean_words.append(lemm)\n",
    "                \n",
    "                if stemming:\n",
    "                    stemmer = PorterStemmer #stemming\n",
    "                    stemm = stemmer.stem(text)\n",
    "                    clean_words.append(stemm)\n",
    "         \n",
    "    rem_stop = [i for i in clean_words if i not in stopword_list]  #remove stopwords\n",
    "    \n",
    "    clean_text = ' '.join(rem_stop) #join as a string\n",
    "    space = re.sub(' +', ' ', clean_text) #remove multi-spaces\n",
    "    \n",
    "    return space    "
   ]
  },
  {
   "cell_type": "markdown",
   "metadata": {},
   "source": [
    "#### Clean Ingredients for Recipes dataset"
   ]
  },
  {
   "cell_type": "code",
   "execution_count": 11,
   "metadata": {},
   "outputs": [],
   "source": [
    "recipes['clean_ingredients_r'] = recipes['ingredients'].apply(lambda x: clean_string(x))"
   ]
  },
  {
   "cell_type": "code",
   "execution_count": 12,
   "metadata": {},
   "outputs": [
    {
     "data": {
      "text/html": [
       "<div>\n",
       "<style scoped>\n",
       "    .dataframe tbody tr th:only-of-type {\n",
       "        vertical-align: middle;\n",
       "    }\n",
       "\n",
       "    .dataframe tbody tr th {\n",
       "        vertical-align: top;\n",
       "    }\n",
       "\n",
       "    .dataframe thead th {\n",
       "        text-align: right;\n",
       "    }\n",
       "</style>\n",
       "<table border=\"1\" class=\"dataframe\">\n",
       "  <thead>\n",
       "    <tr style=\"text-align: right;\">\n",
       "      <th></th>\n",
       "      <th>title</th>\n",
       "      <th>ingredients</th>\n",
       "      <th>instructions</th>\n",
       "      <th>clean_ingredients_r</th>\n",
       "    </tr>\n",
       "  </thead>\n",
       "  <tbody>\n",
       "    <tr>\n",
       "      <th>0</th>\n",
       "      <td>Slow Cooker Chicken and Dumplings</td>\n",
       "      <td>[4 skinless, boneless chicken breast halves AD...</td>\n",
       "      <td>Place the chicken, butter, soup, and onion in ...</td>\n",
       "      <td>skinless boneless chicken breast half butter c...</td>\n",
       "    </tr>\n",
       "    <tr>\n",
       "      <th>1</th>\n",
       "      <td>Awesome Slow Cooker Pot Roast</td>\n",
       "      <td>[2 (10.75 ounce) cans condensed cream of mushr...</td>\n",
       "      <td>In a slow cooker, mix cream of mushroom soup, ...</td>\n",
       "      <td>condensed cream mushroom soup package dry oni...</td>\n",
       "    </tr>\n",
       "    <tr>\n",
       "      <th>2</th>\n",
       "      <td>Brown Sugar Meatloaf</td>\n",
       "      <td>[1/2 cup packed brown sugar ADVERTISEMENT, 1/2...</td>\n",
       "      <td>Preheat oven to 350 degrees F (175 degrees C)....</td>\n",
       "      <td>packed brown sugar ketchup lean ground beef m...</td>\n",
       "    </tr>\n",
       "    <tr>\n",
       "      <th>3</th>\n",
       "      <td>Best Chocolate Chip Cookies</td>\n",
       "      <td>[1 cup butter, softened ADVERTISEMENT, 1 cup w...</td>\n",
       "      <td>Preheat oven to 350 degrees F (175 degrees C)....</td>\n",
       "      <td>butter softened white sugar packed brown sugar...</td>\n",
       "    </tr>\n",
       "    <tr>\n",
       "      <th>4</th>\n",
       "      <td>Homemade Mac and Cheese Casserole</td>\n",
       "      <td>[8 ounces whole wheat rotini pasta ADVERTISEME...</td>\n",
       "      <td>Preheat oven to 350 degrees F. Line a 2-quart ...</td>\n",
       "      <td>whole wheat rotini pasta fresh broccoli floret...</td>\n",
       "    </tr>\n",
       "    <tr>\n",
       "      <th>...</th>\n",
       "      <td>...</td>\n",
       "      <td>...</td>\n",
       "      <td>...</td>\n",
       "      <td>...</td>\n",
       "    </tr>\n",
       "    <tr>\n",
       "      <th>124642</th>\n",
       "      <td>Summer Corn Salad</td>\n",
       "      <td>[4 ears fresh corn, 2 heads Belgian endive, 2 ...</td>\n",
       "      <td>Watch how to make this recipe.\\nPreheat a gril...</td>\n",
       "      <td>ear fresh corn head belgian endive olive oil f...</td>\n",
       "    </tr>\n",
       "    <tr>\n",
       "      <th>124643</th>\n",
       "      <td>Zucchini Stuffed Tomatoes</td>\n",
       "      <td>[4 large plum tomatoes, Salt and sugar, 1 1/2 ...</td>\n",
       "      <td>Preheat the broiler. Cut the tomatoes in 1/2 c...</td>\n",
       "      <td>large plum tomato sugar zucchini shallot slice...</td>\n",
       "    </tr>\n",
       "    <tr>\n",
       "      <th>124644</th>\n",
       "      <td>Pepper Pasta Quick Cook</td>\n",
       "      <td>[3 tablespoons olive oil, 2 tablespoons unsalt...</td>\n",
       "      <td>Heat the oil and butter in a large skillet ove...</td>\n",
       "      <td>olive oil unsalted butter medium clove garlic ...</td>\n",
       "    </tr>\n",
       "    <tr>\n",
       "      <th>124645</th>\n",
       "      <td>Chocolate Cake with Armagnac Ice Cream</td>\n",
       "      <td>[8 ounces butter, 8 ounces bittersweet chocola...</td>\n",
       "      <td>Preheat oven to 350 degrees. On the top half o...</td>\n",
       "      <td>butter bittersweet chocolate whole egg egg yol...</td>\n",
       "    </tr>\n",
       "    <tr>\n",
       "      <th>124646</th>\n",
       "      <td>Crabby Bisque</td>\n",
       "      <td>[3 (10.5-ounce) cans restaurant-style condense...</td>\n",
       "      <td>Watch how to make this recipe.\\nIn a medium sa...</td>\n",
       "      <td>restaurantstyle condensed crab bisque recommen...</td>\n",
       "    </tr>\n",
       "  </tbody>\n",
       "</table>\n",
       "<p>124647 rows × 4 columns</p>\n",
       "</div>"
      ],
      "text/plain": [
       "                                         title  \\\n",
       "0            Slow Cooker Chicken and Dumplings   \n",
       "1                Awesome Slow Cooker Pot Roast   \n",
       "2                         Brown Sugar Meatloaf   \n",
       "3                  Best Chocolate Chip Cookies   \n",
       "4            Homemade Mac and Cheese Casserole   \n",
       "...                                        ...   \n",
       "124642                       Summer Corn Salad   \n",
       "124643               Zucchini Stuffed Tomatoes   \n",
       "124644                 Pepper Pasta Quick Cook   \n",
       "124645  Chocolate Cake with Armagnac Ice Cream   \n",
       "124646                           Crabby Bisque   \n",
       "\n",
       "                                              ingredients  \\\n",
       "0       [4 skinless, boneless chicken breast halves AD...   \n",
       "1       [2 (10.75 ounce) cans condensed cream of mushr...   \n",
       "2       [1/2 cup packed brown sugar ADVERTISEMENT, 1/2...   \n",
       "3       [1 cup butter, softened ADVERTISEMENT, 1 cup w...   \n",
       "4       [8 ounces whole wheat rotini pasta ADVERTISEME...   \n",
       "...                                                   ...   \n",
       "124642  [4 ears fresh corn, 2 heads Belgian endive, 2 ...   \n",
       "124643  [4 large plum tomatoes, Salt and sugar, 1 1/2 ...   \n",
       "124644  [3 tablespoons olive oil, 2 tablespoons unsalt...   \n",
       "124645  [8 ounces butter, 8 ounces bittersweet chocola...   \n",
       "124646  [3 (10.5-ounce) cans restaurant-style condense...   \n",
       "\n",
       "                                             instructions  \\\n",
       "0       Place the chicken, butter, soup, and onion in ...   \n",
       "1       In a slow cooker, mix cream of mushroom soup, ...   \n",
       "2       Preheat oven to 350 degrees F (175 degrees C)....   \n",
       "3       Preheat oven to 350 degrees F (175 degrees C)....   \n",
       "4       Preheat oven to 350 degrees F. Line a 2-quart ...   \n",
       "...                                                   ...   \n",
       "124642  Watch how to make this recipe.\\nPreheat a gril...   \n",
       "124643  Preheat the broiler. Cut the tomatoes in 1/2 c...   \n",
       "124644  Heat the oil and butter in a large skillet ove...   \n",
       "124645  Preheat oven to 350 degrees. On the top half o...   \n",
       "124646  Watch how to make this recipe.\\nIn a medium sa...   \n",
       "\n",
       "                                      clean_ingredients_r  \n",
       "0       skinless boneless chicken breast half butter c...  \n",
       "1        condensed cream mushroom soup package dry oni...  \n",
       "2        packed brown sugar ketchup lean ground beef m...  \n",
       "3       butter softened white sugar packed brown sugar...  \n",
       "4       whole wheat rotini pasta fresh broccoli floret...  \n",
       "...                                                   ...  \n",
       "124642  ear fresh corn head belgian endive olive oil f...  \n",
       "124643  large plum tomato sugar zucchini shallot slice...  \n",
       "124644  olive oil unsalted butter medium clove garlic ...  \n",
       "124645  butter bittersweet chocolate whole egg egg yol...  \n",
       "124646  restaurantstyle condensed crab bisque recommen...  \n",
       "\n",
       "[124647 rows x 4 columns]"
      ]
     },
     "metadata": {},
     "output_type": "display_data"
    }
   ],
   "source": [
    "display(recipes)"
   ]
  },
  {
   "cell_type": "markdown",
   "metadata": {},
   "source": [
    "#### Before and After Pre-processing"
   ]
  },
  {
   "cell_type": "code",
   "execution_count": 14,
   "metadata": {},
   "outputs": [
    {
     "name": "stdout",
     "output_type": "stream",
     "text": [
      "['1 (32 ounce) package frozen hash brown potatoes ADVERTISEMENT', '8 ounces cooked, diced ham ADVERTISEMENT', '2 (10.75 ounce) cans condensed cream of potato soup ADVERTISEMENT', '1 (16 ounce) container sour cream ADVERTISEMENT', '2 cups shredded sharp Cheddar cheese ADVERTISEMENT', '1 1/2 cups grated Parmesan cheese ADVERTISEMENT', 'ADVERTISEMENT']\n",
      "\n",
      "\n",
      " package frozen hash brown potato cooked diced ham condensed cream potato soup container sour cream shredded sharp cheddar cheese grated parmesan cheese\n"
     ]
    }
   ],
   "source": [
    "print(recipes['ingredients'][200])\n",
    "\n",
    "print('\\n')\n",
    "\n",
    "print(recipes['clean_ingredients_r'][200])"
   ]
  },
  {
   "cell_type": "markdown",
   "metadata": {},
   "source": [
    "### B. Removing NA"
   ]
  },
  {
   "cell_type": "code",
   "execution_count": 15,
   "metadata": {},
   "outputs": [
    {
     "name": "stdout",
     "output_type": "stream",
     "text": [
      "<class 'pandas.core.frame.DataFrame'>\n",
      "RangeIndex: 124647 entries, 0 to 124646\n",
      "Data columns (total 4 columns):\n",
      " #   Column               Non-Null Count   Dtype \n",
      "---  ------               --------------   ----- \n",
      " 0   title                124595 non-null  object\n",
      " 1   ingredients          124647 non-null  object\n",
      " 2   instructions         124473 non-null  object\n",
      " 3   clean_ingredients_r  124647 non-null  object\n",
      "dtypes: object(4)\n",
      "memory usage: 3.8+ MB\n"
     ]
    }
   ],
   "source": [
    "#dataframe info\n",
    "\n",
    "recipes.info()"
   ]
  },
  {
   "cell_type": "code",
   "execution_count": 16,
   "metadata": {},
   "outputs": [],
   "source": [
    "#removing NA\n",
    "\n",
    "recipes.dropna(inplace=True)"
   ]
  },
  {
   "cell_type": "code",
   "execution_count": 17,
   "metadata": {},
   "outputs": [
    {
     "name": "stdout",
     "output_type": "stream",
     "text": [
      "<class 'pandas.core.frame.DataFrame'>\n",
      "Int64Index: 124473 entries, 0 to 124646\n",
      "Data columns (total 4 columns):\n",
      " #   Column               Non-Null Count   Dtype \n",
      "---  ------               --------------   ----- \n",
      " 0   title                124473 non-null  object\n",
      " 1   ingredients          124473 non-null  object\n",
      " 2   instructions         124473 non-null  object\n",
      " 3   clean_ingredients_r  124473 non-null  object\n",
      "dtypes: object(4)\n",
      "memory usage: 4.7+ MB\n"
     ]
    }
   ],
   "source": [
    "#after removing NA\n",
    "\n",
    "recipes.info()"
   ]
  },
  {
   "cell_type": "markdown",
   "metadata": {},
   "source": [
    "#### Clean Ingredients for Cuisine dataset"
   ]
  },
  {
   "cell_type": "code",
   "execution_count": 18,
   "metadata": {},
   "outputs": [
    {
     "data": {
      "text/html": [
       "<div>\n",
       "<style scoped>\n",
       "    .dataframe tbody tr th:only-of-type {\n",
       "        vertical-align: middle;\n",
       "    }\n",
       "\n",
       "    .dataframe tbody tr th {\n",
       "        vertical-align: top;\n",
       "    }\n",
       "\n",
       "    .dataframe thead th {\n",
       "        text-align: right;\n",
       "    }\n",
       "</style>\n",
       "<table border=\"1\" class=\"dataframe\">\n",
       "  <thead>\n",
       "    <tr style=\"text-align: right;\">\n",
       "      <th></th>\n",
       "      <th>id</th>\n",
       "      <th>cuisine</th>\n",
       "      <th>ingredients</th>\n",
       "    </tr>\n",
       "  </thead>\n",
       "  <tbody>\n",
       "    <tr>\n",
       "      <th>0</th>\n",
       "      <td>10259</td>\n",
       "      <td>greek</td>\n",
       "      <td>[romaine lettuce, black olives, grape tomatoes...</td>\n",
       "    </tr>\n",
       "    <tr>\n",
       "      <th>1</th>\n",
       "      <td>25693</td>\n",
       "      <td>southern_us</td>\n",
       "      <td>[plain flour, ground pepper, salt, tomatoes, g...</td>\n",
       "    </tr>\n",
       "    <tr>\n",
       "      <th>2</th>\n",
       "      <td>20130</td>\n",
       "      <td>filipino</td>\n",
       "      <td>[eggs, pepper, salt, mayonaise, cooking oil, g...</td>\n",
       "    </tr>\n",
       "    <tr>\n",
       "      <th>3</th>\n",
       "      <td>22213</td>\n",
       "      <td>indian</td>\n",
       "      <td>[water, vegetable oil, wheat, salt]</td>\n",
       "    </tr>\n",
       "    <tr>\n",
       "      <th>4</th>\n",
       "      <td>13162</td>\n",
       "      <td>indian</td>\n",
       "      <td>[black pepper, shallots, cornflour, cayenne pe...</td>\n",
       "    </tr>\n",
       "    <tr>\n",
       "      <th>...</th>\n",
       "      <td>...</td>\n",
       "      <td>...</td>\n",
       "      <td>...</td>\n",
       "    </tr>\n",
       "    <tr>\n",
       "      <th>39769</th>\n",
       "      <td>29109</td>\n",
       "      <td>irish</td>\n",
       "      <td>[light brown sugar, granulated sugar, butter, ...</td>\n",
       "    </tr>\n",
       "    <tr>\n",
       "      <th>39770</th>\n",
       "      <td>11462</td>\n",
       "      <td>italian</td>\n",
       "      <td>[KRAFT Zesty Italian Dressing, purple onion, b...</td>\n",
       "    </tr>\n",
       "    <tr>\n",
       "      <th>39771</th>\n",
       "      <td>2238</td>\n",
       "      <td>irish</td>\n",
       "      <td>[eggs, citrus fruit, raisins, sourdough starte...</td>\n",
       "    </tr>\n",
       "    <tr>\n",
       "      <th>39772</th>\n",
       "      <td>41882</td>\n",
       "      <td>chinese</td>\n",
       "      <td>[boneless chicken skinless thigh, minced garli...</td>\n",
       "    </tr>\n",
       "    <tr>\n",
       "      <th>39773</th>\n",
       "      <td>2362</td>\n",
       "      <td>mexican</td>\n",
       "      <td>[green chile, jalapeno chilies, onions, ground...</td>\n",
       "    </tr>\n",
       "  </tbody>\n",
       "</table>\n",
       "<p>39774 rows × 3 columns</p>\n",
       "</div>"
      ],
      "text/plain": [
       "          id      cuisine                                        ingredients\n",
       "0      10259        greek  [romaine lettuce, black olives, grape tomatoes...\n",
       "1      25693  southern_us  [plain flour, ground pepper, salt, tomatoes, g...\n",
       "2      20130     filipino  [eggs, pepper, salt, mayonaise, cooking oil, g...\n",
       "3      22213       indian                [water, vegetable oil, wheat, salt]\n",
       "4      13162       indian  [black pepper, shallots, cornflour, cayenne pe...\n",
       "...      ...          ...                                                ...\n",
       "39769  29109        irish  [light brown sugar, granulated sugar, butter, ...\n",
       "39770  11462      italian  [KRAFT Zesty Italian Dressing, purple onion, b...\n",
       "39771   2238        irish  [eggs, citrus fruit, raisins, sourdough starte...\n",
       "39772  41882      chinese  [boneless chicken skinless thigh, minced garli...\n",
       "39773   2362      mexican  [green chile, jalapeno chilies, onions, ground...\n",
       "\n",
       "[39774 rows x 3 columns]"
      ]
     },
     "metadata": {},
     "output_type": "display_data"
    }
   ],
   "source": [
    "display(cuisine)"
   ]
  },
  {
   "cell_type": "code",
   "execution_count": 21,
   "metadata": {},
   "outputs": [],
   "source": [
    "cuisine['clean_ingredients_c'] = cuisine['ingredients'].apply(lambda x: clean_string(x))"
   ]
  },
  {
   "cell_type": "code",
   "execution_count": 22,
   "metadata": {},
   "outputs": [
    {
     "name": "stdout",
     "output_type": "stream",
     "text": [
      "['turnip greens', 'vegetable oil', 'fresh lemon juice', 'black peppercorns', 'butternut squash', 'apples', 'kosher salt', 'buttermilk', 'country ham', 'shallots', 'extra-virgin olive oil']\n",
      "\n",
      "\n",
      "turnip green vegetable oil fresh lemon juice black peppercorn butternut squash apple kosher buttermilk country ham shallot extravirgin olive oil\n"
     ]
    }
   ],
   "source": [
    "print(cuisine['ingredients'][200])\n",
    "\n",
    "print('\\n')\n",
    "\n",
    "print(cuisine['clean_ingredients_c'][200])"
   ]
  },
  {
   "cell_type": "markdown",
   "metadata": {},
   "source": [
    "## 2. Feature Engg and Classification of Cuisines "
   ]
  },
  {
   "cell_type": "markdown",
   "metadata": {},
   "source": [
    "#### Instantiate Vectorizer"
   ]
  },
  {
   "cell_type": "code",
   "execution_count": 23,
   "metadata": {},
   "outputs": [],
   "source": [
    "count_uni = CountVectorizer(lowercase = True, stop_words = 'english', ngram_range = (1,1))\n",
    "count_bi = CountVectorizer(lowercase = True,stop_words = 'english', ngram_range = (1,2))\n",
    "count_binary = CountVectorizer(lowercase = True,stop_words = 'english', ngram_range = (1,2), binary = True)\n",
    "tfidf_uni = TfidfVectorizer(lowercase = True,stop_words = 'english', ngram_range = (1,1))\n",
    "tfidf_bi = TfidfVectorizer(lowercase = True,stop_words = 'english', ngram_range = (1,2))"
   ]
  },
  {
   "cell_type": "code",
   "execution_count": 24,
   "metadata": {},
   "outputs": [],
   "source": [
    "vect_dict = {'count_uni': count_uni,\n",
    "            'count_bi': count_bi,\n",
    "            'count_binary': count_binary,\n",
    "            'tfidf_uni': tfidf_uni,\n",
    "            'tfidf_bi': tfidf_bi}"
   ]
  },
  {
   "cell_type": "markdown",
   "metadata": {},
   "source": [
    "#### Subsetting dataset for testing"
   ]
  },
  {
   "cell_type": "code",
   "execution_count": 59,
   "metadata": {},
   "outputs": [
    {
     "data": {
      "text/html": [
       "<div>\n",
       "<style scoped>\n",
       "    .dataframe tbody tr th:only-of-type {\n",
       "        vertical-align: middle;\n",
       "    }\n",
       "\n",
       "    .dataframe tbody tr th {\n",
       "        vertical-align: top;\n",
       "    }\n",
       "\n",
       "    .dataframe thead th {\n",
       "        text-align: right;\n",
       "    }\n",
       "</style>\n",
       "<table border=\"1\" class=\"dataframe\">\n",
       "  <thead>\n",
       "    <tr style=\"text-align: right;\">\n",
       "      <th></th>\n",
       "      <th>id</th>\n",
       "      <th>cuisine</th>\n",
       "      <th>ingredients</th>\n",
       "      <th>clean_ingredients_c</th>\n",
       "    </tr>\n",
       "  </thead>\n",
       "  <tbody>\n",
       "    <tr>\n",
       "      <th>0</th>\n",
       "      <td>10259</td>\n",
       "      <td>greek</td>\n",
       "      <td>[romaine lettuce, black olives, grape tomatoes...</td>\n",
       "      <td>romaine lettuce black olive grape tomato garli...</td>\n",
       "    </tr>\n",
       "    <tr>\n",
       "      <th>1</th>\n",
       "      <td>25693</td>\n",
       "      <td>southern_us</td>\n",
       "      <td>[plain flour, ground pepper, salt, tomatoes, g...</td>\n",
       "      <td>plain flour ground tomato ground black thyme e...</td>\n",
       "    </tr>\n",
       "    <tr>\n",
       "      <th>2</th>\n",
       "      <td>20130</td>\n",
       "      <td>filipino</td>\n",
       "      <td>[eggs, pepper, salt, mayonaise, cooking oil, g...</td>\n",
       "      <td>egg mayonaise cooking oil green chilies grille...</td>\n",
       "    </tr>\n",
       "    <tr>\n",
       "      <th>3</th>\n",
       "      <td>22213</td>\n",
       "      <td>indian</td>\n",
       "      <td>[water, vegetable oil, wheat, salt]</td>\n",
       "      <td>water vegetable oil wheat</td>\n",
       "    </tr>\n",
       "    <tr>\n",
       "      <th>4</th>\n",
       "      <td>13162</td>\n",
       "      <td>indian</td>\n",
       "      <td>[black pepper, shallots, cornflour, cayenne pe...</td>\n",
       "      <td>black shallot cornflour cayenne onion garlic p...</td>\n",
       "    </tr>\n",
       "    <tr>\n",
       "      <th>5</th>\n",
       "      <td>6602</td>\n",
       "      <td>jamaican</td>\n",
       "      <td>[plain flour, sugar, butter, eggs, fresh ginge...</td>\n",
       "      <td>plain flour sugar butter egg fresh ginger root...</td>\n",
       "    </tr>\n",
       "    <tr>\n",
       "      <th>6</th>\n",
       "      <td>42779</td>\n",
       "      <td>spanish</td>\n",
       "      <td>[olive oil, salt, medium shrimp, pepper, garli...</td>\n",
       "      <td>olive oil medium shrimp garlic chopped cilantr...</td>\n",
       "    </tr>\n",
       "    <tr>\n",
       "      <th>7</th>\n",
       "      <td>3735</td>\n",
       "      <td>italian</td>\n",
       "      <td>[sugar, pistachio nuts, white almond bark, flo...</td>\n",
       "      <td>sugar pistachio nut white almond bark flour va...</td>\n",
       "    </tr>\n",
       "    <tr>\n",
       "      <th>8</th>\n",
       "      <td>16903</td>\n",
       "      <td>mexican</td>\n",
       "      <td>[olive oil, purple onion, fresh pineapple, por...</td>\n",
       "      <td>olive oil purple onion fresh pineapple pork po...</td>\n",
       "    </tr>\n",
       "    <tr>\n",
       "      <th>9</th>\n",
       "      <td>12734</td>\n",
       "      <td>italian</td>\n",
       "      <td>[chopped tomatoes, fresh basil, garlic, extra-...</td>\n",
       "      <td>chopped tomato fresh basil garlic extravirgin ...</td>\n",
       "    </tr>\n",
       "    <tr>\n",
       "      <th>10</th>\n",
       "      <td>5875</td>\n",
       "      <td>italian</td>\n",
       "      <td>[pimentos, sweet pepper, dried oregano, olive ...</td>\n",
       "      <td>pimento sweet dried oregano olive oil garlic s...</td>\n",
       "    </tr>\n",
       "    <tr>\n",
       "      <th>11</th>\n",
       "      <td>45887</td>\n",
       "      <td>chinese</td>\n",
       "      <td>[low sodium soy sauce, fresh ginger, dry musta...</td>\n",
       "      <td>low sodium soy sauce fresh ginger dry mustard ...</td>\n",
       "    </tr>\n",
       "    <tr>\n",
       "      <th>12</th>\n",
       "      <td>2698</td>\n",
       "      <td>italian</td>\n",
       "      <td>[Italian parsley leaves, walnuts, hot red pepp...</td>\n",
       "      <td>italian parsley leaf walnut hot red flake extr...</td>\n",
       "    </tr>\n",
       "    <tr>\n",
       "      <th>13</th>\n",
       "      <td>41995</td>\n",
       "      <td>mexican</td>\n",
       "      <td>[ground cinnamon, fresh cilantro, chili powder...</td>\n",
       "      <td>ground cinnamon fresh cilantro chili powder gr...</td>\n",
       "    </tr>\n",
       "    <tr>\n",
       "      <th>14</th>\n",
       "      <td>31908</td>\n",
       "      <td>italian</td>\n",
       "      <td>[fresh parmesan cheese, butter, all-purpose fl...</td>\n",
       "      <td>fresh parmesan cheese butter allpurpose flour ...</td>\n",
       "    </tr>\n",
       "    <tr>\n",
       "      <th>15</th>\n",
       "      <td>24717</td>\n",
       "      <td>indian</td>\n",
       "      <td>[tumeric, vegetable stock, tomatoes, garam mas...</td>\n",
       "      <td>tumeric vegetable stock tomato garam masala na...</td>\n",
       "    </tr>\n",
       "    <tr>\n",
       "      <th>16</th>\n",
       "      <td>34466</td>\n",
       "      <td>british</td>\n",
       "      <td>[greek yogurt, lemon curd, confectioners sugar...</td>\n",
       "      <td>greek yogurt lemon curd confectioner sugar ras...</td>\n",
       "    </tr>\n",
       "    <tr>\n",
       "      <th>17</th>\n",
       "      <td>1420</td>\n",
       "      <td>italian</td>\n",
       "      <td>[italian seasoning, broiler-fryer chicken, may...</td>\n",
       "      <td>italian seasoning broilerfryer chicken mayonai...</td>\n",
       "    </tr>\n",
       "    <tr>\n",
       "      <th>18</th>\n",
       "      <td>2941</td>\n",
       "      <td>thai</td>\n",
       "      <td>[sugar, hot chili, asian fish sauce, lime juice]</td>\n",
       "      <td>sugar hot chili asian fish sauce lime juice</td>\n",
       "    </tr>\n",
       "    <tr>\n",
       "      <th>19</th>\n",
       "      <td>8152</td>\n",
       "      <td>vietnamese</td>\n",
       "      <td>[soy sauce, vegetable oil, red bell pepper, ch...</td>\n",
       "      <td>soy sauce vegetable oil red bell chicken broth...</td>\n",
       "    </tr>\n",
       "  </tbody>\n",
       "</table>\n",
       "</div>"
      ],
      "text/plain": [
       "       id      cuisine                                        ingredients  \\\n",
       "0   10259        greek  [romaine lettuce, black olives, grape tomatoes...   \n",
       "1   25693  southern_us  [plain flour, ground pepper, salt, tomatoes, g...   \n",
       "2   20130     filipino  [eggs, pepper, salt, mayonaise, cooking oil, g...   \n",
       "3   22213       indian                [water, vegetable oil, wheat, salt]   \n",
       "4   13162       indian  [black pepper, shallots, cornflour, cayenne pe...   \n",
       "5    6602     jamaican  [plain flour, sugar, butter, eggs, fresh ginge...   \n",
       "6   42779      spanish  [olive oil, salt, medium shrimp, pepper, garli...   \n",
       "7    3735      italian  [sugar, pistachio nuts, white almond bark, flo...   \n",
       "8   16903      mexican  [olive oil, purple onion, fresh pineapple, por...   \n",
       "9   12734      italian  [chopped tomatoes, fresh basil, garlic, extra-...   \n",
       "10   5875      italian  [pimentos, sweet pepper, dried oregano, olive ...   \n",
       "11  45887      chinese  [low sodium soy sauce, fresh ginger, dry musta...   \n",
       "12   2698      italian  [Italian parsley leaves, walnuts, hot red pepp...   \n",
       "13  41995      mexican  [ground cinnamon, fresh cilantro, chili powder...   \n",
       "14  31908      italian  [fresh parmesan cheese, butter, all-purpose fl...   \n",
       "15  24717       indian  [tumeric, vegetable stock, tomatoes, garam mas...   \n",
       "16  34466      british  [greek yogurt, lemon curd, confectioners sugar...   \n",
       "17   1420      italian  [italian seasoning, broiler-fryer chicken, may...   \n",
       "18   2941         thai   [sugar, hot chili, asian fish sauce, lime juice]   \n",
       "19   8152   vietnamese  [soy sauce, vegetable oil, red bell pepper, ch...   \n",
       "\n",
       "                                  clean_ingredients_c  \n",
       "0   romaine lettuce black olive grape tomato garli...  \n",
       "1   plain flour ground tomato ground black thyme e...  \n",
       "2   egg mayonaise cooking oil green chilies grille...  \n",
       "3                           water vegetable oil wheat  \n",
       "4   black shallot cornflour cayenne onion garlic p...  \n",
       "5   plain flour sugar butter egg fresh ginger root...  \n",
       "6   olive oil medium shrimp garlic chopped cilantr...  \n",
       "7   sugar pistachio nut white almond bark flour va...  \n",
       "8   olive oil purple onion fresh pineapple pork po...  \n",
       "9   chopped tomato fresh basil garlic extravirgin ...  \n",
       "10  pimento sweet dried oregano olive oil garlic s...  \n",
       "11  low sodium soy sauce fresh ginger dry mustard ...  \n",
       "12  italian parsley leaf walnut hot red flake extr...  \n",
       "13  ground cinnamon fresh cilantro chili powder gr...  \n",
       "14  fresh parmesan cheese butter allpurpose flour ...  \n",
       "15  tumeric vegetable stock tomato garam masala na...  \n",
       "16  greek yogurt lemon curd confectioner sugar ras...  \n",
       "17  italian seasoning broilerfryer chicken mayonai...  \n",
       "18        sugar hot chili asian fish sauce lime juice  \n",
       "19  soy sauce vegetable oil red bell chicken broth...  "
      ]
     },
     "metadata": {},
     "output_type": "display_data"
    }
   ],
   "source": [
    "cuisine_subset = cuisine.head(n = 20)\n",
    "display(cuisine_subset)"
   ]
  },
  {
   "cell_type": "code",
   "execution_count": 49,
   "metadata": {},
   "outputs": [
    {
     "data": {
      "text/plain": [
       "italian         7838\n",
       "mexican         6438\n",
       "southern_us     4320\n",
       "indian          3003\n",
       "chinese         2673\n",
       "french          2646\n",
       "cajun_creole    1546\n",
       "thai            1539\n",
       "japanese        1423\n",
       "greek           1175\n",
       "spanish          989\n",
       "korean           830\n",
       "vietnamese       825\n",
       "moroccan         821\n",
       "british          804\n",
       "filipino         755\n",
       "irish            667\n",
       "jamaican         526\n",
       "russian          489\n",
       "brazilian        467\n",
       "Name: cuisine, dtype: int64"
      ]
     },
     "execution_count": 49,
     "metadata": {},
     "output_type": "execute_result"
    }
   ],
   "source": [
    "cuisine.cuisine.value_counts()"
   ]
  },
  {
   "cell_type": "markdown",
   "metadata": {},
   "source": [
    "#### Classification Methods"
   ]
  },
  {
   "cell_type": "markdown",
   "metadata": {},
   "source": [
    "### The madness starts here"
   ]
  },
  {
   "cell_type": "code",
   "execution_count": 134,
   "metadata": {},
   "outputs": [],
   "source": [
    "# Logistic Regression, SVM, Random Forest, Naive Bayes,  Neural Networks, KNN\n",
    " \n",
    "from sklearn.naive_bayes import MultinomialNB\n",
    "from sklearn.linear_model import LogisticRegression\n",
    "from sklearn import feature_extraction, model_selection, pipeline\n",
    "from sklearn.ensemble import RandomForestClassifier\n",
    "from sklearn.neighbors import KNeighborsClassifier\n",
    "from sklearn.decomposition import NMF, PCA, TruncatedSVD, FastICA\n",
    "from sklearn.model_selection import cross_validate, KFold, GridSearchCV\n",
    "from sklearn.pipeline import Pipeline\n",
    "from sklearn.base import TransformerMixin\n",
    "from sklearn.preprocessing import StandardScaler\n",
    "from sklearn.svm import SVC\n"
   ]
  },
  {
   "cell_type": "code",
   "execution_count": 109,
   "metadata": {},
   "outputs": [],
   "source": [
    "from sklearn import svm"
   ]
  },
  {
   "cell_type": "code",
   "execution_count": 60,
   "metadata": {},
   "outputs": [],
   "source": [
    "nb = MultinomialNB()\n",
    "logreg = LogisticRegression()\n",
    "svc = SVC(multi_class = 'ovr')\n",
    "rf = RandomForestClassifier()\n",
    "#knn = KneighborsClassifier()"
   ]
  },
  {
   "cell_type": "code",
   "execution_count": 136,
   "metadata": {},
   "outputs": [],
   "source": [
    "#we used this\n",
    "svc = SVC()"
   ]
  },
  {
   "cell_type": "code",
   "execution_count": 110,
   "metadata": {},
   "outputs": [],
   "source": [
    "#not working\n",
    "\n",
    "linear = svm.SVC(kernel='linear', decision_function_shape='ovo')\n",
    "rbf = svm.SVC(kernel='rbf', decision_function_shape='ovo')\n",
    "poly = svm.SVC(kernel='poly',  decision_function_shape='ovo')\n",
    "sig = svm.SVC(kernel='sigmoid', decision_function_shape='ovo')"
   ]
  },
  {
   "cell_type": "code",
   "execution_count": 137,
   "metadata": {},
   "outputs": [],
   "source": [
    "class SparseToDense(TransformerMixin):\n",
    "    \n",
    "    def fit(self, X, y = None, **fit_params):\n",
    "        return self\n",
    "    \n",
    "    def transform(self, X, y = None, **fit_params):\n",
    "        return X.toarray()"
   ]
  },
  {
   "cell_type": "code",
   "execution_count": 138,
   "metadata": {},
   "outputs": [],
   "source": [
    "pca = PCA()\n",
    "ncomps = [5, 10, 20, 50, 75, 100]"
   ]
  },
  {
   "cell_type": "code",
   "execution_count": 139,
   "metadata": {},
   "outputs": [],
   "source": [
    "X = cuisine_subset['clean_ingredients_c']\n",
    "y = cuisine_subset['cuisine']\n",
    "\n",
    "##X_count = tfidf_uni.fit_transform(X)"
   ]
  },
  {
   "cell_type": "code",
   "execution_count": 140,
   "metadata": {},
   "outputs": [],
   "source": [
    "#Cross Validation\n",
    "\n",
    "inner_cv = KFold(n_splits = 3, shuffle = True, random_state = 1)\n",
    "outer_cv = KFold(n_splits = 5, shuffle = True, random_state = 1)"
   ]
  },
  {
   "cell_type": "code",
   "execution_count": 141,
   "metadata": {},
   "outputs": [],
   "source": [
    "#Stating the parameters\n",
    "\n",
    "kernel = [rbf, linear]\n",
    "C = [1, 10, 100, 1000]\n",
    "\n",
    "# set up parameter grid\n",
    "params = {'classify__kernel': kernel, 'classify__C': C, 'dim_red__n_components': ncomps}\n",
    "\n",
    "for method in vect_dict:\n",
    "    pipe = Pipeline([\n",
    "        ('vectorize', vect_dict[method]),\n",
    "        ('densify', SparseToDense()),\n",
    "        ('scale', StandardScaler()),\n",
    "        ('dim_red', pca),\n",
    "        ('classify', svc)\n",
    "    ])\n",
    "    \n",
    "grid_SVC = GridSearchCV(pipe, params, cv = inner_cv)"
   ]
  },
  {
   "cell_type": "code",
   "execution_count": 143,
   "metadata": {
    "scrolled": false
   },
   "outputs": [
    {
     "ename": "IndentationError",
     "evalue": "unexpected indent (Temp/ipykernel_12832/3061204600.py, line 4)",
     "output_type": "error",
     "traceback": [
      "\u001b[1;36m  File \u001b[1;32m\"C:\\Users\\jsoba\\AppData\\Local\\Temp/ipykernel_12832/3061204600.py\"\u001b[1;36m, line \u001b[1;32m4\u001b[0m\n\u001b[1;33m    X = X,\u001b[0m\n\u001b[1;37m    ^\u001b[0m\n\u001b[1;31mIndentationError\u001b[0m\u001b[1;31m:\u001b[0m unexpected indent\n"
     ]
    }
   ],
   "source": [
    "#This is where we are running into error. \n",
    "\n",
    "#scores = cross_validate(grid_SVC,\n",
    "                       X = X,\n",
    "                       y = y,\n",
    "                       cv = outer_cv,\n",
    "                       scoring = ['roc_auc', 'accuracy', 'f1', 'precision', 'recall'],\n",
    "                       return_estimator = True, error_score = 'raise')\n",
    "\n",
    "#auc = scores['test_roc_auc']\n",
    "#accuracy = scores['test_accuracy']\n",
    "#f1 = scores['test_f1']\n",
    "#precision = scores['test_precision']\n",
    "#recall = scores['test_recall']\n",
    "#estimators = scores['estimator']"
   ]
  },
  {
   "cell_type": "code",
   "execution_count": 144,
   "metadata": {},
   "outputs": [
    {
     "name": "stdout",
     "output_type": "stream",
     "text": [
      "[nan nan nan nan nan]\n",
      "nan\n",
      "[nan nan nan nan nan]\n",
      "nan\n",
      "[nan nan nan nan nan]\n",
      "nan\n",
      "[nan nan nan nan nan]\n",
      "nan\n"
     ]
    }
   ],
   "source": [
    "print(accuracy)\n",
    "print(accuracy.mean())\n",
    "\n",
    "print(precision)\n",
    "print(precision.mean())\n",
    "\n",
    "print(recall)\n",
    "print(recall.mean())\n",
    "\n",
    "print(f1)\n",
    "print(f1.mean())"
   ]
  },
  {
   "cell_type": "markdown",
   "metadata": {},
   "source": [
    "## Below: Code from Kaggle: https://www.kaggle.com/code/rahulsridhar2811/cuisine-classification-with-accuracy-78-88/notebook"
   ]
  },
  {
   "cell_type": "code",
   "execution_count": 126,
   "metadata": {},
   "outputs": [
    {
     "name": "stderr",
     "output_type": "stream",
     "text": [
      "C:\\Users\\jsoba\\AppData\\Local\\Temp/ipykernel_12832/2749814231.py:4: SettingWithCopyWarning: \n",
      "A value is trying to be set on a copy of a slice from a DataFrame.\n",
      "Try using .loc[row_indexer,col_indexer] = value instead\n",
      "\n",
      "See the caveats in the documentation: https://pandas.pydata.org/pandas-docs/stable/user_guide/indexing.html#returning-a-view-versus-a-copy\n",
      "  cuisine_subset['cuisine']=le.transform(cuisine_subset['cuisine'])\n"
     ]
    }
   ],
   "source": [
    "from sklearn import preprocessing\n",
    "le = preprocessing.LabelEncoder()\n",
    "le.fit(cuisine_subset['cuisine'])\n",
    "cuisine_subset['cuisine']=le.transform(cuisine_subset['cuisine']) "
   ]
  },
  {
   "cell_type": "code",
   "execution_count": 127,
   "metadata": {},
   "outputs": [],
   "source": [
    "cuisine_subset_map={'0':'brazilian', '1':'british', '2':'cajun_creole', '3':'chinese', '4':'filipino', '5':'french', '6':'greek', '7':'indian', '8':'irish', '9':'italian', '10':'jamaican', '11':'japanese', '12':'korean', '13':'mexican', '14':'moroccan', '15':'russian', '16':'southern_us', '17':'spanish', '18':'thai', '19':'vietnamese'}"
   ]
  },
  {
   "cell_type": "code",
   "execution_count": 128,
   "metadata": {},
   "outputs": [],
   "source": [
    "X = cuisine_subset['clean_ingredients_c']\n",
    "y = cuisine_subset['cuisine']\n",
    "\n",
    "##X_count = tfidf_uni.fit_transform(X)"
   ]
  },
  {
   "cell_type": "code",
   "execution_count": 131,
   "metadata": {},
   "outputs": [
    {
     "name": "stdout",
     "output_type": "stream",
     "text": [
      "  (0, 41)\t0.3115386541764817\n",
      "  (0, 21)\t0.22636168665179335\n",
      "  (0, 53)\t0.3115386541764817\n",
      "  (0, 9)\t0.2738472456045715\n",
      "  (0, 64)\t0.3115386541764817\n",
      "  (0, 127)\t0.2738472456045715\n",
      "  (0, 100)\t0.18267087709523874\n",
      "  (0, 117)\t0.2738472456045715\n",
      "  (0, 65)\t0.15306791138792583\n",
      "  (0, 150)\t0.20941335706395003\n",
      "  (0, 68)\t0.3115386541764817\n",
      "  (0, 99)\t0.17172194849203987\n",
      "  (0, 11)\t0.18267087709523874\n",
      "  (0, 84)\t0.2738472456045715\n",
      "  (0, 121)\t0.3115386541764817\n",
      "  (1, 98)\t0.1308507475691997\n",
      "  (1, 156)\t0.22670974091786258\n",
      "  (1, 92)\t0.22670974091786258\n",
      "  (1, 90)\t0.31201767674976016\n",
      "  (1, 37)\t0.22670974091786258\n",
      "  (1, 163)\t0.24748471450935447\n",
      "  (1, 70)\t0.22670974091786258\n",
      "  (1, 49)\t0.22670974091786258\n",
      "  (1, 149)\t0.31201767674976016\n",
      "  (1, 72)\t0.3659035045378975\n",
      "  :\t:\n",
      "  (18, 123)\t0.31912136386134354\n",
      "  (19, 120)\t0.23552212944726256\n",
      "  (19, 34)\t0.23552212944726256\n",
      "  (19, 14)\t0.23552212944726256\n",
      "  (19, 136)\t0.23552212944726256\n",
      "  (19, 141)\t0.23552212944726256\n",
      "  (19, 10)\t0.23552212944726256\n",
      "  (19, 16)\t0.2070275568164958\n",
      "  (19, 142)\t0.2070275568164958\n",
      "  (19, 119)\t0.15831576316196586\n",
      "  (19, 85)\t0.17112864086298352\n",
      "  (19, 62)\t0.1298211905311991\n",
      "  (19, 24)\t0.15831576316196586\n",
      "  (19, 78)\t0.15831576316196586\n",
      "  (19, 123)\t0.34225728172596703\n",
      "  (19, 138)\t0.18681033579273265\n",
      "  (19, 13)\t0.2070275568164958\n",
      "  (19, 22)\t0.3166315263239317\n",
      "  (19, 98)\t0.09877083576896359\n",
      "  (19, 156)\t0.17112864086298352\n",
      "  (19, 37)\t0.17112864086298352\n",
      "  (19, 163)\t0.18681033579273265\n",
      "  (19, 70)\t0.17112864086298352\n",
      "  (19, 100)\t0.1380985421382027\n",
      "  (19, 65)\t0.11571880393277598\n"
     ]
    }
   ],
   "source": [
    "from sklearn.feature_extraction.text import TfidfVectorizer\n",
    "vectorizer = TfidfVectorizer()\n",
    "X_tf = vectorizer.fit_transform(cuisine_subset['clean_ingredients_c'])\n",
    "\n",
    "print(X_tf)\n",
    "#print(vectorizer.get_feature_names())"
   ]
  },
  {
   "cell_type": "code",
   "execution_count": 133,
   "metadata": {},
   "outputs": [
    {
     "name": "stderr",
     "output_type": "stream",
     "text": [
      "C:\\Users\\jsoba\\anaconda3\\lib\\site-packages\\sklearn\\model_selection\\_split.py:676: UserWarning: The least populated class in y has only 1 members, which is less than n_splits=5.\n",
      "  warnings.warn(\n"
     ]
    },
    {
     "name": "stdout",
     "output_type": "stream",
     "text": [
      "Best score for data1: 0.3\n",
      "Best C: 1\n",
      "Best Kernel: linear\n",
      "Best Gamma: scale\n"
     ]
    }
   ],
   "source": [
    "from sklearn.svm import SVC\n",
    "\n",
    "parameter_candidates = [\n",
    "  {'C': [1, 10, 100, 1000], 'kernel': ['linear']},\n",
    "  {'C': [1, 10, 100, 1000], 'gamma': [0.001, 0.0001], 'kernel': ['rbf']},\n",
    "]\n",
    "\n",
    "clf = GridSearchCV(estimator=svm.SVC(), param_grid=parameter_candidates, n_jobs=-1)\n",
    "\n",
    "clf.fit(X_tf, y)   \n",
    "print('Best score for data1:', clf.best_score_) \n",
    "print('Best C:',clf.best_estimator_.C) \n",
    "print('Best Kernel:',clf.best_estimator_.kernel)\n",
    "print('Best Gamma:',clf.best_estimator_.gamma)"
   ]
  }
 ],
 "metadata": {
  "interpreter": {
   "hash": "5db968608ecdb27000edf98c5f63e9ccc25d479a7a16895421f990979c50088b"
  },
  "kernelspec": {
   "display_name": "Python 3 (ipykernel)",
   "language": "python",
   "name": "python3"
  },
  "language_info": {
   "codemirror_mode": {
    "name": "ipython",
    "version": 3
   },
   "file_extension": ".py",
   "mimetype": "text/x-python",
   "name": "python",
   "nbconvert_exporter": "python",
   "pygments_lexer": "ipython3",
   "version": "3.9.7"
  }
 },
 "nbformat": 4,
 "nbformat_minor": 2
}
